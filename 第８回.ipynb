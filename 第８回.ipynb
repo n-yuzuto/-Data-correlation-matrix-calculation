{
 "cells": [
  {
   "cell_type": "code",
   "execution_count": 44,
   "metadata": {},
   "outputs": [],
   "source": [
    "import numpy as np\n",
    "N = 1000\n",
    "d = 2\n",
    "Sigma = np.array([[1.0, 0.5], [0.5, 1.0]])\n",
    "eigval, eigvec = np.linalg.eigh(Sigma)\n",
    "mu = np.array([0.0, 0.0])\n",
    "data = np.zeros((N,d))\n",
    "for i in range(N):\n",
    "    data[i] = mu\n",
    "    z = np.random.randn(d)\n",
    "    for k in range(d):\n",
    "        data[i] += np.sqrt(eigval[k]) * z[k] * eigvec[k]"
   ]
  },
  {
   "cell_type": "code",
   "execution_count": 45,
   "metadata": {},
   "outputs": [],
   "source": [
    "muhat=np.zeros(d)\n",
    "sigma_hat=np.zeros((d,d))\n",
    "d_1=np.ones((N,1))\n",
    "mu_hat=(1 / N) * (data.T) @ d_1\n",
    "sigma_hat=1/(N-1) * (data.T-mu_hat @ d_1.T) @ (data.T-mu_hat @ d_1.T).T\n",
    "data_standardized=np.zeros((N,d))\n",
    "for i in range(N):\n",
    "    for j in range(d):\n",
    "        data_standardized[i][j]=(data[i][j]-mu_hat[j])/np.sqrt(sigma_hat[j][j])"
   ]
  },
  {
   "cell_type": "code",
   "execution_count": 46,
   "metadata": {},
   "outputs": [
    {
     "name": "stdout",
     "output_type": "stream",
     "text": [
      "[[1.         0.46695867]\n",
      " [0.46695867 1.        ]]\n"
     ]
    }
   ],
   "source": [
    "Rhat = np.zeros((d,d))\n",
    "for i in range(d):\n",
    "    for j in range(d):\n",
    "        Rhat[i][j] = sigma_hat[i][j] / np.sqrt(sigma_hat[i][i]*sigma_hat[j][j])\n",
    "print(Rhat)"
   ]
  },
  {
   "cell_type": "code",
   "execution_count": 21,
   "metadata": {},
   "outputs": [
    {
     "name": "stdout",
     "output_type": "stream",
     "text": [
      "[[1.  0.5]\n",
      " [0.5 1. ]]\n"
     ]
    }
   ],
   "source": [
    "R=np.zeros((d,d))\n",
    "for i in range(d):\n",
    "    for j in range(d):\n",
    "        R[i][j]=Sigma[i][j]/np.sqrt(Sigma[i][i]*Sigma[j][j])\n",
    "print(R)"
   ]
  },
  {
   "cell_type": "code",
   "execution_count": null,
   "metadata": {},
   "outputs": [],
   "source": []
  }
 ],
 "metadata": {
  "kernelspec": {
   "display_name": "Python 3",
   "language": "python",
   "name": "python3"
  },
  "language_info": {
   "codemirror_mode": {
    "name": "ipython",
    "version": 3
   },
   "file_extension": ".py",
   "mimetype": "text/x-python",
   "name": "python",
   "nbconvert_exporter": "python",
   "pygments_lexer": "ipython3",
   "version": "3.7.3"
  }
 },
 "nbformat": 4,
 "nbformat_minor": 2
}
